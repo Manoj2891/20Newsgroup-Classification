{
 "cells": [
  {
   "cell_type": "code",
   "execution_count": 0,
   "metadata": {
    "colab": {},
    "colab_type": "code",
    "id": "bT0xr9G2W6Ng"
   },
   "outputs": [],
   "source": [
    "import pandas as pd\n",
    "import numpy as np\n",
    "import sys\n",
    "import re\n",
    "from sklearn.feature_extraction.text import TfidfVectorizer\n",
    "from sklearn.feature_extraction.text import CountVectorizer"
   ]
  },
  {
   "cell_type": "code",
   "execution_count": 0,
   "metadata": {
    "colab": {
     "base_uri": "https://localhost:8080/",
     "height": 51
    },
    "colab_type": "code",
    "id": "69tQU46oiVIV",
    "outputId": "61d78962-5627-42a1-8f71-b7b77c3d5f5d"
   },
   "outputs": [
    {
     "name": "stderr",
     "output_type": "stream",
     "text": [
      "Downloading 20news dataset. This may take a few minutes.\n",
      "Downloading dataset from https://ndownloader.figshare.com/files/5975967 (14 MB)\n"
     ]
    }
   ],
   "source": [
    "from sklearn.datasets import fetch_20newsgroups\n",
    "train = fetch_20newsgroups(subset='train', shuffle=True)"
   ]
  },
  {
   "cell_type": "code",
   "execution_count": 0,
   "metadata": {
    "colab": {
     "base_uri": "https://localhost:8080/",
     "height": 357
    },
    "colab_type": "code",
    "id": "ItmZTxynilpf",
    "outputId": "7858e1d6-2363-40a6-ab47-f8b6a055be5d"
   },
   "outputs": [
    {
     "data": {
      "text/plain": [
       "['alt.atheism',\n",
       " 'comp.graphics',\n",
       " 'comp.os.ms-windows.misc',\n",
       " 'comp.sys.ibm.pc.hardware',\n",
       " 'comp.sys.mac.hardware',\n",
       " 'comp.windows.x',\n",
       " 'misc.forsale',\n",
       " 'rec.autos',\n",
       " 'rec.motorcycles',\n",
       " 'rec.sport.baseball',\n",
       " 'rec.sport.hockey',\n",
       " 'sci.crypt',\n",
       " 'sci.electronics',\n",
       " 'sci.med',\n",
       " 'sci.space',\n",
       " 'soc.religion.christian',\n",
       " 'talk.politics.guns',\n",
       " 'talk.politics.mideast',\n",
       " 'talk.politics.misc',\n",
       " 'talk.religion.misc']"
      ]
     },
     "execution_count": 3,
     "metadata": {
      "tags": []
     },
     "output_type": "execute_result"
    }
   ],
   "source": [
    "train.target_names"
   ]
  },
  {
   "cell_type": "code",
   "execution_count": 0,
   "metadata": {
    "colab": {
     "base_uri": "https://localhost:8080/",
     "height": 34
    },
    "colab_type": "code",
    "id": "w3Xwb41JGcUV",
    "outputId": "401c6743-1d7d-43c7-abd3-8601e25b67eb"
   },
   "outputs": [
    {
     "data": {
      "text/plain": [
       "array([7, 4, 4, ..., 3, 1, 8])"
      ]
     },
     "execution_count": 4,
     "metadata": {
      "tags": []
     },
     "output_type": "execute_result"
    }
   ],
   "source": [
    "train.target"
   ]
  },
  {
   "cell_type": "code",
   "execution_count": 0,
   "metadata": {
    "colab": {
     "base_uri": "https://localhost:8080/",
     "height": 391
    },
    "colab_type": "code",
    "id": "WPqV2707jbNF",
    "outputId": "39a1e938-2d5b-4d83-9a85-e5153eb6c4ce"
   },
   "outputs": [
    {
     "name": "stdout",
     "output_type": "stream",
     "text": [
      "From: lerxst@wam.umd.edu (where's my thing)\n",
      "Subject: WHAT car is this!?\n",
      "Nntp-Posting-Host: rac3.wam.umd.edu\n",
      "Organization: University of Maryland, College Park\n",
      "Lines: 15\n",
      "\n",
      " I was wondering if anyone out there could enlighten me on this car I saw\n",
      "the other day. It was a 2-door sports car, looked to be from the late 60s/\n",
      "early 70s. It was called a Bricklin. The doors were really small. In addition,\n",
      "the front bumper was separate from the rest of the body. This is \n",
      "all I know. If anyone can tellme a model name, engine specs, years\n",
      "of production, where this car is made, history, or whatever info you\n",
      "have on this funky looking car, please e-mail.\n",
      "\n",
      "Thanks,\n",
      "- IL\n",
      "   ---- brought to you by your neighborhood Lerxst ----\n",
      "\n",
      "\n",
      "\n",
      "\n",
      "\n"
     ]
    }
   ],
   "source": [
    "print(\"\\n\".join(train.data[0].split(\"\\n\")[:]))"
   ]
  },
  {
   "cell_type": "code",
   "execution_count": 0,
   "metadata": {
    "colab": {
     "base_uri": "https://localhost:8080/",
     "height": 34
    },
    "colab_type": "code",
    "id": "AvxWAki7gPUX",
    "outputId": "c3850bd9-79f2-4605-d3ee-3ea0b8bf91ff"
   },
   "outputs": [
    {
     "data": {
      "text/plain": [
       "(11314,)"
      ]
     },
     "execution_count": 6,
     "metadata": {
      "tags": []
     },
     "output_type": "execute_result"
    }
   ],
   "source": [
    "train.filenames.shape"
   ]
  },
  {
   "cell_type": "code",
   "execution_count": 0,
   "metadata": {
    "colab": {
     "base_uri": "https://localhost:8080/",
     "height": 34
    },
    "colab_type": "code",
    "id": "y_G3W_Gpgyal",
    "outputId": "e6ae6e1c-cae0-4588-cf5c-bc1b05d1d159"
   },
   "outputs": [
    {
     "data": {
      "text/plain": [
       "(11314,)"
      ]
     },
     "execution_count": 7,
     "metadata": {
      "tags": []
     },
     "output_type": "execute_result"
    }
   ],
   "source": [
    "train.target.shape"
   ]
  },
  {
   "cell_type": "code",
   "execution_count": 0,
   "metadata": {
    "colab": {
     "base_uri": "https://localhost:8080/",
     "height": 34
    },
    "colab_type": "code",
    "id": "SCcFB3WHg2NU",
    "outputId": "f4c5466b-27d5-4ff4-acd4-9ff0bf3856a3"
   },
   "outputs": [
    {
     "data": {
      "text/plain": [
       "array([ 7,  4,  4,  1, 14, 16, 13,  3,  2,  4])"
      ]
     },
     "execution_count": 8,
     "metadata": {
      "tags": []
     },
     "output_type": "execute_result"
    }
   ],
   "source": [
    "train.target[:10]"
   ]
  },
  {
   "cell_type": "code",
   "execution_count": 0,
   "metadata": {
    "colab": {
     "base_uri": "https://localhost:8080/",
     "height": 68
    },
    "colab_type": "code",
    "id": "ymfcCe_d6oq4",
    "outputId": "d7a41afd-54fd-4b85-93cf-f6de58effd09"
   },
   "outputs": [
    {
     "name": "stdout",
     "output_type": "stream",
     "text": [
      "[nltk_data] Downloading package stopwords to /root/nltk_data...\n",
      "[nltk_data]   Unzipping corpora/stopwords.zip.\n"
     ]
    },
    {
     "data": {
      "text/plain": [
       "True"
      ]
     },
     "execution_count": 9,
     "metadata": {
      "tags": []
     },
     "output_type": "execute_result"
    }
   ],
   "source": [
    "import nltk\n",
    "nltk.download('stopwords')"
   ]
  },
  {
   "cell_type": "code",
   "execution_count": 0,
   "metadata": {
    "colab": {
     "base_uri": "https://localhost:8080/",
     "height": 34
    },
    "colab_type": "code",
    "id": "fpa1f0ushgPK",
    "outputId": "fbe46079-cf8c-4e78-ff03-480b08d49876"
   },
   "outputs": [
    {
     "data": {
      "text/plain": [
       "(11314, 129963)"
      ]
     },
     "execution_count": 10,
     "metadata": {
      "tags": []
     },
     "output_type": "execute_result"
    }
   ],
   "source": [
    "from nltk.corpus import stopwords\n",
    "vectorizer = TfidfVectorizer(stop_words=stopwords.words('english'))\n",
    "vectors = vectorizer.fit_transform(train.data)\n",
    "vectors.shape"
   ]
  },
  {
   "cell_type": "code",
   "execution_count": 0,
   "metadata": {
    "colab": {
     "base_uri": "https://localhost:8080/",
     "height": 34
    },
    "colab_type": "code",
    "id": "wGEnc9Txlitb",
    "outputId": "59d07d53-c92a-486e-cc68-4b015ad56408"
   },
   "outputs": [
    {
     "data": {
      "text/plain": [
       "0.8297659298702685"
      ]
     },
     "execution_count": 11,
     "metadata": {
      "tags": []
     },
     "output_type": "execute_result"
    }
   ],
   "source": [
    "from sklearn.naive_bayes import MultinomialNB  # model building\n",
    "from sklearn import metrics\n",
    "test = fetch_20newsgroups(subset='test',shuffle=True)\n",
    "vectors_test = vectorizer.transform(test.data)\n",
    "clf = MultinomialNB(alpha=0.01)\n",
    "clf.fit(vectors, train.target)\n",
    "pred = clf.predict(vectors_test)\n",
    "metrics.f1_score(test.target, pred, average='macro')"
   ]
  },
  {
   "cell_type": "code",
   "execution_count": 0,
   "metadata": {
    "colab": {
     "base_uri": "https://localhost:8080/",
     "height": 34
    },
    "colab_type": "code",
    "id": "dsrzxD8noCGQ",
    "outputId": "c477c1e1-6350-4cce-fbfe-2bcf81830799"
   },
   "outputs": [
    {
     "data": {
      "text/plain": [
       "0.8356346255974508"
      ]
     },
     "execution_count": 12,
     "metadata": {
      "tags": []
     },
     "output_type": "execute_result"
    }
   ],
   "source": [
    "metrics.accuracy_score(test.target, pred)"
   ]
  },
  {
   "cell_type": "code",
   "execution_count": 0,
   "metadata": {
    "colab": {},
    "colab_type": "code",
    "id": "lwLX4EOaqKPT"
   },
   "outputs": [],
   "source": [
    "predtr = clf.predict(vectors)"
   ]
  },
  {
   "cell_type": "code",
   "execution_count": 0,
   "metadata": {
    "colab": {
     "base_uri": "https://localhost:8080/",
     "height": 34
    },
    "colab_type": "code",
    "id": "iZoTKLLRqR5-",
    "outputId": "6615c973-2a2a-4b08-b64f-f3edee0e824d"
   },
   "outputs": [
    {
     "data": {
      "text/plain": [
       "0.9554534205409227"
      ]
     },
     "execution_count": 14,
     "metadata": {
      "tags": []
     },
     "output_type": "execute_result"
    }
   ],
   "source": [
    "metrics.accuracy_score(train.target, predtr)"
   ]
  },
  {
   "cell_type": "code",
   "execution_count": 0,
   "metadata": {
    "colab": {},
    "colab_type": "code",
    "id": "4rYSaHhQtE0_"
   },
   "outputs": [],
   "source": [
    "def show_top10(classifier, vectorizer, categories):\n",
    "     feature_names = np.asarray(vectorizer.get_feature_names())\n",
    "     for i, category in enumerate(categories):\n",
    "         top10 = np.argsort(classifier.coef_[i])[-15:]\n",
    "         print(\"%s: %s\" % (category, \" \".join(feature_names[top10])))"
   ]
  },
  {
   "cell_type": "code",
   "execution_count": 0,
   "metadata": {
    "colab": {
     "base_uri": "https://localhost:8080/",
     "height": 357
    },
    "colab_type": "code",
    "id": "HfMiGBXftPzp",
    "outputId": "2fffe238-efe6-4aae-f3b6-89636d0d6330"
   },
   "outputs": [
    {
     "name": "stdout",
     "output_type": "stream",
     "text": [
      "alt.atheism: solntze islam morality writes one people sgi atheism com livesey atheists caltech god edu keith\n",
      "comp.graphics: program posting file thanks organization polygon subject com university lines files 3d image edu graphics\n",
      "comp.os.ms-windows.misc: lines university use mouse card com ax ms drivers driver files dos file edu windows\n",
      "comp.sys.ibm.pc.hardware: drives thanks dos system isa disk pc com controller bus edu card ide drive scsi\n",
      "comp.sys.mac.hardware: problem lc subject duo lines scsi simms monitor centris se quadra drive edu apple mac\n",
      "comp.windows.x: organization subject lines lcs uk application x11r5 xterm widget edu com server mit motif window\n",
      "misc.forsale: mail forsale price organization subject lines condition distribution university new shipping offer 00 edu sale\n",
      "rec.autos: university like dealer lines organization subject oil writes would article engine edu cars com car\n",
      "rec.motorcycles: subject helmet organization bmw riding writes ca article motorcycle bikes ride edu dod com bike\n",
      "rec.sport.baseball: cs last writes braves pitching article com runs games players game team year baseball edu\n",
      "rec.sport.hockey: university teams toronto leafs games season go players play nhl edu ca game team hockey\n",
      "sci.crypt: netcom algorithm security would edu crypto nsa government escrow keys com chip encryption clipper key\n",
      "sci.electronics: ground host anyone university ca organization circuit would power subject one lines use com edu\n",
      "sci.med: one disease doctor article food science dyer cs com msg gordon banks geb edu pitt\n",
      "sci.space: toronto would launch com pat gov digex orbit access alaska moon henry edu nasa space\n",
      "soc.religion.christian: hell believe one rutgers would faith people christ christian bible edu church christians jesus god\n",
      "talk.politics.guns: government writes atf waco firearms weapons batf stratus fbi people would com guns edu gun\n",
      "talk.politics.mideast: jake turks turkey argic serdar armenia people arab armenians edu armenian turkish jews israeli israel\n",
      "talk.politics.misc: tax clayton kaldis would gay state government article writes clinton people optilink cramer com edu\n",
      "talk.religion.misc: bible apple writes one koresh objective people morality kent christian com edu jesus sandvik god\n"
     ]
    }
   ],
   "source": [
    "show_top10(clf, vectorizer, train.target_names)  # top 10 features"
   ]
  },
  {
   "cell_type": "code",
   "execution_count": 0,
   "metadata": {
    "colab": {
     "base_uri": "https://localhost:8080/",
     "height": 34
    },
    "colab_type": "code",
    "id": "yiixfRtJ-8m_",
    "outputId": "35e8c019-5fec-4da1-a5b0-d39a3641e9b6"
   },
   "outputs": [
    {
     "data": {
      "text/plain": [
       "0.9999116139296447"
      ]
     },
     "execution_count": 17,
     "metadata": {
      "tags": []
     },
     "output_type": "execute_result"
    }
   ],
   "source": [
    "from sklearn.ensemble import RandomForestClassifier\n",
    "rfc = RandomForestClassifier()\n",
    "rfc.fit(vectors, train.target)\n",
    "rfcpred = rfc.predict(vectors)\n",
    "metrics.accuracy_score(train.target, rfcpred)"
   ]
  },
  {
   "cell_type": "code",
   "execution_count": 0,
   "metadata": {
    "colab": {
     "base_uri": "https://localhost:8080/",
     "height": 34
    },
    "colab_type": "code",
    "id": "N-m81IKhEWrF",
    "outputId": "aabf4406-74e6-4789-da8b-9eedc9c39ee0"
   },
   "outputs": [
    {
     "data": {
      "text/plain": [
       "0.7818640467339352"
      ]
     },
     "execution_count": 18,
     "metadata": {
      "tags": []
     },
     "output_type": "execute_result"
    }
   ],
   "source": [
    "rfctest = rfc.predict(vectors_test)\n",
    "metrics.accuracy_score(test.target, rfctest)"
   ]
  },
  {
   "cell_type": "code",
   "execution_count": 0,
   "metadata": {
    "colab": {
     "base_uri": "https://localhost:8080/",
     "height": 476
    },
    "colab_type": "code",
    "id": "wQ5jjhcArjiu",
    "outputId": "8901a7ed-01c0-4155-8b5a-eac02fc74ed4"
   },
   "outputs": [
    {
     "name": "stdout",
     "output_type": "stream",
     "text": [
      "                          precision    recall  f1-score   support\n",
      "\n",
      "             alt.atheism       0.72      0.65      0.68       319\n",
      "           comp.graphics       0.62      0.73      0.67       389\n",
      " comp.os.ms-windows.misc       0.67      0.81      0.74       394\n",
      "comp.sys.ibm.pc.hardware       0.68      0.68      0.68       392\n",
      "   comp.sys.mac.hardware       0.78      0.79      0.78       385\n",
      "          comp.windows.x       0.79      0.69      0.73       395\n",
      "            misc.forsale       0.77      0.90      0.83       390\n",
      "               rec.autos       0.84      0.84      0.84       396\n",
      "         rec.motorcycles       0.93      0.91      0.92       398\n",
      "      rec.sport.baseball       0.84      0.90      0.87       397\n",
      "        rec.sport.hockey       0.88      0.93      0.91       399\n",
      "               sci.crypt       0.88      0.92      0.90       396\n",
      "         sci.electronics       0.71      0.53      0.61       393\n",
      "                 sci.med       0.85      0.72      0.78       396\n",
      "               sci.space       0.83      0.90      0.86       394\n",
      "  soc.religion.christian       0.73      0.95      0.82       398\n",
      "      talk.politics.guns       0.67      0.90      0.77       364\n",
      "   talk.politics.mideast       0.95      0.79      0.86       376\n",
      "      talk.politics.misc       0.81      0.50      0.62       310\n",
      "      talk.religion.misc       0.76      0.36      0.49       251\n",
      "\n",
      "                accuracy                           0.78      7532\n",
      "               macro avg       0.79      0.77      0.77      7532\n",
      "            weighted avg       0.79      0.78      0.78      7532\n",
      "\n"
     ]
    }
   ],
   "source": [
    "print(metrics.classification_report(test.target, rfctest,target_names=test.target_names))"
   ]
  },
  {
   "cell_type": "markdown",
   "metadata": {
    "colab_type": "text",
    "id": "kkkJMPOTO5D3"
   },
   "source": [
    "Loading the data by removing header, footer and Quotes and running the model to check the performance of the model."
   ]
  },
  {
   "cell_type": "code",
   "execution_count": 0,
   "metadata": {
    "colab": {},
    "colab_type": "code",
    "id": "ddlpXaWctolm"
   },
   "outputs": [],
   "source": [
    "new_train = fetch_20newsgroups(subset='train',remove=('headers', 'footers', 'quotes'))\n",
    "vectors = vectorizer.fit_transform(new_train.data)\n",
    "clf = MultinomialNB()\n",
    "clf.fit(vectors, new_train.target)\n",
    "predtr = clf.predict(vectors)"
   ]
  },
  {
   "cell_type": "code",
   "execution_count": 0,
   "metadata": {
    "colab": {
     "base_uri": "https://localhost:8080/",
     "height": 34
    },
    "colab_type": "code",
    "id": "TBACFqUMiS3f",
    "outputId": "c715d854-a1ec-4d11-dca9-6a366e771a89"
   },
   "outputs": [
    {
     "data": {
      "text/plain": [
       "0.6397432017729484"
      ]
     },
     "execution_count": 17,
     "metadata": {
      "tags": []
     },
     "output_type": "execute_result"
    }
   ],
   "source": [
    "new_test = fetch_20newsgroups(subset='test',remove=('headers', 'footers', 'quotes'))\n",
    "vectors_test = vectorizer.transform(new_test.data)\n",
    "pred = clf.predict(vectors_test)\n",
    "metrics.f1_score(new_test.target, pred, average='macro')"
   ]
  },
  {
   "cell_type": "code",
   "execution_count": 0,
   "metadata": {
    "colab": {
     "base_uri": "https://localhost:8080/",
     "height": 136
    },
    "colab_type": "code",
    "id": "jY8ikYfMOlZj",
    "outputId": "8f3ac965-eab5-47e3-8e0e-dd2e2c42c13a"
   },
   "outputs": [
    {
     "name": "stdout",
     "output_type": "stream",
     "text": [
      "I was wondering if anyone out there could enlighten me on this car I saw\n",
      "the other day. It was a 2-door sports car, looked to be from the late 60s/\n",
      "early 70s. It was called a Bricklin. The doors were really small. In addition,\n",
      "the front bumper was separate from the rest of the body. This is \n",
      "all I know. If anyone can tellme a model name, engine specs, years\n",
      "of production, where this car is made, history, or whatever info you\n",
      "have on this funky looking car, please e-mail.\n"
     ]
    }
   ],
   "source": [
    "print(\"\\n\".join(new_train.data[0].split(\"\\n\")[:]))"
   ]
  },
  {
   "cell_type": "code",
   "execution_count": 0,
   "metadata": {
    "colab": {
     "base_uri": "https://localhost:8080/",
     "height": 34
    },
    "colab_type": "code",
    "id": "k4tTHpaakvCO",
    "outputId": "1b009221-9549-4b19-d811-c8ddcb88cfcf"
   },
   "outputs": [
    {
     "data": {
      "text/plain": [
       "0.8690118437334277"
      ]
     },
     "execution_count": 19,
     "metadata": {
      "tags": []
     },
     "output_type": "execute_result"
    }
   ],
   "source": [
    "metrics.accuracy_score(new_train.target, predtr)"
   ]
  },
  {
   "cell_type": "code",
   "execution_count": 0,
   "metadata": {
    "colab": {
     "base_uri": "https://localhost:8080/",
     "height": 34
    },
    "colab_type": "code",
    "id": "X2lEdmC5lJYs",
    "outputId": "97f41587-34a3-47f9-c375-106cf015bf64"
   },
   "outputs": [
    {
     "data": {
      "text/plain": [
       "0.6698088157195964"
      ]
     },
     "execution_count": 20,
     "metadata": {
      "tags": []
     },
     "output_type": "execute_result"
    }
   ],
   "source": [
    "metrics.accuracy_score(new_test.target, pred)"
   ]
  },
  {
   "cell_type": "code",
   "execution_count": 0,
   "metadata": {
    "colab": {
     "base_uri": "https://localhost:8080/",
     "height": 357
    },
    "colab_type": "code",
    "id": "KtWtb6fX7Ak_",
    "outputId": "38d5c715-7336-4228-d3b6-f523287607fc"
   },
   "outputs": [
    {
     "name": "stdout",
     "output_type": "stream",
     "text": [
      "alt.atheism: objective morality well bible could islam atheists say religion would atheism think one people god\n",
      "comp.graphics: hi software please looking format 3d know anyone would program file files thanks image graphics\n",
      "comp.os.ms-windows.misc: anyone ftp using program ax card problem thanks use driver drivers files dos file windows\n",
      "comp.sys.ibm.pc.hardware: get isa drives monitor would system disk thanks pc ide controller bus card scsi drive\n",
      "comp.sys.mac.hardware: lc use know monitor anyone quadra would get simms one thanks problem drive apple mac\n",
      "comp.windows.x: mit display get program xterm using windows x11r5 use application thanks widget server motif window\n",
      "misc.forsale: used mail drive interested asking email sell price please new condition shipping offer 00 sale\n",
      "rec.autos: think also know oil one ford new good dealer get engine would like cars car\n",
      "rec.motorcycles: right would know bmw dog get helmet riding like motorcycle ride one bikes dod bike\n",
      "rec.sport.baseball: good would one think braves players last pitching hit runs games game baseball team year\n",
      "rec.sport.hockey: leafs detroit go teams league year would nhl games season players play hockey team game\n",
      "sci.crypt: algorithm one security people use system escrow nsa would keys government chip clipper encryption key\n",
      "sci.electronics: good electronics ground thanks voltage used get know like circuit power anyone use one would\n",
      "sci.med: one edu surrender intellect shameful skepticism cadre dsl banks chastity n3jxp pitt gordon geb msg\n",
      "sci.space: spacecraft think could get lunar one earth like shuttle moon launch orbit would nasa space\n",
      "soc.religion.christian: us say think believe faith christian christ bible one people christians would church jesus god\n",
      "talk.politics.guns: batf well right get law firearms government fire one fbi weapons people would guns gun\n",
      "talk.politics.mideast: turks jewish turkey said arabs one would arab turkish people armenians armenian jews israeli israel\n",
      "talk.politics.misc: drugs get like men us know state clinton president think one tax would government people\n",
      "talk.religion.misc: say kent know see think koresh objective one christians bible would people christian jesus god\n"
     ]
    }
   ],
   "source": [
    "show_top10(clf, vectorizer, new_train.target_names)"
   ]
  },
  {
   "cell_type": "code",
   "execution_count": 0,
   "metadata": {
    "colab": {},
    "colab_type": "code",
    "id": "0RunWKRVm_P4"
   },
   "outputs": [],
   "source": [
    "from sklearn.linear_model import LogisticRegression"
   ]
  },
  {
   "cell_type": "code",
   "execution_count": 0,
   "metadata": {
    "colab": {
     "base_uri": "https://localhost:8080/",
     "height": 34
    },
    "colab_type": "code",
    "id": "irxSs5blpRBA",
    "outputId": "bff1fe78-eacc-41fb-976d-883386fa8cfb"
   },
   "outputs": [
    {
     "data": {
      "text/plain": [
       "0.919833834187732"
      ]
     },
     "execution_count": 23,
     "metadata": {
      "tags": []
     },
     "output_type": "execute_result"
    }
   ],
   "source": [
    "log = LogisticRegression(multi_class='multinomial')\n",
    "log.fit(vectors, new_train.target)\n",
    "logpred = log.predict(vectors)\n",
    "metrics.accuracy_score(new_train.target, logpred)"
   ]
  },
  {
   "cell_type": "code",
   "execution_count": 0,
   "metadata": {
    "colab": {
     "base_uri": "https://localhost:8080/",
     "height": 34
    },
    "colab_type": "code",
    "id": "1eSMFAZfpQ_C",
    "outputId": "3b55dfbd-0362-4b2b-fa8f-c453eef6f528"
   },
   "outputs": [
    {
     "data": {
      "text/plain": [
       "0.6887944768985661"
      ]
     },
     "execution_count": 24,
     "metadata": {
      "tags": []
     },
     "output_type": "execute_result"
    }
   ],
   "source": [
    "log_test = log.predict(vectors_test)\n",
    "metrics.accuracy_score(new_test.target, log_test)"
   ]
  },
  {
   "cell_type": "code",
   "execution_count": 0,
   "metadata": {
    "colab": {},
    "colab_type": "code",
    "id": "t4o6L7otpQ7m"
   },
   "outputs": [],
   "source": [
    "from sklearn.ensemble import RandomForestClassifier"
   ]
  },
  {
   "cell_type": "code",
   "execution_count": 0,
   "metadata": {
    "colab": {
     "base_uri": "https://localhost:8080/",
     "height": 34
    },
    "colab_type": "code",
    "id": "pXo3avnepQwT",
    "outputId": "bb243e5b-0449-4f46-8a7d-470983b01fbd"
   },
   "outputs": [
    {
     "data": {
      "text/plain": [
       "0.9740144953155383"
      ]
     },
     "execution_count": 47,
     "metadata": {
      "tags": []
     },
     "output_type": "execute_result"
    }
   ],
   "source": [
    "rfc = RandomForestClassifier()\n",
    "rfc.fit(vectors, new_train.target)\n",
    "rfcpred = rfc.predict(vectors)\n",
    "metrics.accuracy_score(new_train.target, rfcpred)"
   ]
  },
  {
   "cell_type": "code",
   "execution_count": 0,
   "metadata": {
    "colab": {
     "base_uri": "https://localhost:8080/",
     "height": 34
    },
    "colab_type": "code",
    "id": "38D80Qe3ut9I",
    "outputId": "e233614d-5138-4a80-ee28-8463d47b166d"
   },
   "outputs": [
    {
     "data": {
      "text/plain": [
       "0.6218799787573022"
      ]
     },
     "execution_count": 48,
     "metadata": {
      "tags": []
     },
     "output_type": "execute_result"
    }
   ],
   "source": [
    "rfctest = rfc.predict(vectors_test)\n",
    "metrics.accuracy_score(new_test.target, rfctest)"
   ]
  },
  {
   "cell_type": "code",
   "execution_count": 0,
   "metadata": {
    "colab": {},
    "colab_type": "code",
    "id": "KoDmKTI42Ycz"
   },
   "outputs": [],
   "source": [
    "X_train =  pd.DataFrame(fetch_20newsgroups(random_state=1,subset=\"train\").data)\n",
    "X_test = pd.DataFrame(fetch_20newsgroups(random_state=1,subset=\"test\").data)"
   ]
  },
  {
   "cell_type": "code",
   "execution_count": 0,
   "metadata": {
    "colab": {
     "base_uri": "https://localhost:8080/",
     "height": 204
    },
    "colab_type": "code",
    "id": "utMQU8yo2e7H",
    "outputId": "0d1332e6-b3fa-4bc3-b538-7525a8b43b9d"
   },
   "outputs": [
    {
     "data": {
      "text/html": [
       "<div>\n",
       "<style scoped>\n",
       "    .dataframe tbody tr th:only-of-type {\n",
       "        vertical-align: middle;\n",
       "    }\n",
       "\n",
       "    .dataframe tbody tr th {\n",
       "        vertical-align: top;\n",
       "    }\n",
       "\n",
       "    .dataframe thead th {\n",
       "        text-align: right;\n",
       "    }\n",
       "</style>\n",
       "<table border=\"1\" class=\"dataframe\">\n",
       "  <thead>\n",
       "    <tr style=\"text-align: right;\">\n",
       "      <th></th>\n",
       "      <th>0</th>\n",
       "    </tr>\n",
       "  </thead>\n",
       "  <tbody>\n",
       "    <tr>\n",
       "      <th>0</th>\n",
       "      <td>From: ab4z@Virginia.EDU (\"Andi Beyer\")\\nSubjec...</td>\n",
       "    </tr>\n",
       "    <tr>\n",
       "      <th>1</th>\n",
       "      <td>From: timmbake@mcl.ucsb.edu (Bake Timmons)\\nSu...</td>\n",
       "    </tr>\n",
       "    <tr>\n",
       "      <th>2</th>\n",
       "      <td>From: bc744@cleveland.Freenet.Edu (Mark Ira Ka...</td>\n",
       "    </tr>\n",
       "    <tr>\n",
       "      <th>3</th>\n",
       "      <td>From: ray@ole.cdac.com (Ray Berry)\\nSubject: C...</td>\n",
       "    </tr>\n",
       "    <tr>\n",
       "      <th>4</th>\n",
       "      <td>From: kkeller@mail.sas.upenn.edu (Keith Keller...</td>\n",
       "    </tr>\n",
       "  </tbody>\n",
       "</table>\n",
       "</div>"
      ],
      "text/plain": [
       "                                                   0\n",
       "0  From: ab4z@Virginia.EDU (\"Andi Beyer\")\\nSubjec...\n",
       "1  From: timmbake@mcl.ucsb.edu (Bake Timmons)\\nSu...\n",
       "2  From: bc744@cleveland.Freenet.Edu (Mark Ira Ka...\n",
       "3  From: ray@ole.cdac.com (Ray Berry)\\nSubject: C...\n",
       "4  From: kkeller@mail.sas.upenn.edu (Keith Keller..."
      ]
     },
     "execution_count": 12,
     "metadata": {
      "tags": []
     },
     "output_type": "execute_result"
    }
   ],
   "source": [
    "X_train.head()"
   ]
  },
  {
   "cell_type": "code",
   "execution_count": 0,
   "metadata": {
    "colab": {
     "base_uri": "https://localhost:8080/",
     "height": 34
    },
    "colab_type": "code",
    "id": "vrzjH3G2kB6P",
    "outputId": "4d79f01a-0b9b-4481-8ad6-abbd150245f9"
   },
   "outputs": [
    {
     "data": {
      "text/plain": [
       "(11314, 130107)"
      ]
     },
     "execution_count": 5,
     "metadata": {
      "tags": []
     },
     "output_type": "execute_result"
    }
   ],
   "source": [
    "count_vect = CountVectorizer()\n",
    "tf = count_vect.fit_transform(train.data)\n",
    "tf.shape"
   ]
  },
  {
   "cell_type": "code",
   "execution_count": 0,
   "metadata": {
    "colab": {
     "base_uri": "https://localhost:8080/",
     "height": 51
    },
    "colab_type": "code",
    "id": "Fc03pMNs1CU6",
    "outputId": "fb0dec13-e9cc-4e60-f302-7d660c668034"
   },
   "outputs": [
    {
     "data": {
      "text/plain": [
       "<11314x130107 sparse matrix of type '<class 'numpy.int64'>'\n",
       "\twith 1787565 stored elements in Compressed Sparse Row format>"
      ]
     },
     "execution_count": 8,
     "metadata": {
      "tags": []
     },
     "output_type": "execute_result"
    }
   ],
   "source": [
    "tf"
   ]
  },
  {
   "cell_type": "markdown",
   "metadata": {
    "colab_type": "text",
    "id": "OKs-cgSf4QT_"
   },
   "source": [
    "TfidfVectorizer is used on sentences, while TfidfTransformer is used on an existing count matrix, such as one returned by CountVectorizer"
   ]
  },
  {
   "cell_type": "markdown",
   "metadata": {
    "colab_type": "text",
    "id": "HXYpscZ7sVuP"
   },
   "source": [
    "SVD"
   ]
  },
  {
   "cell_type": "code",
   "execution_count": 0,
   "metadata": {
    "colab": {},
    "colab_type": "code",
    "id": "2blA3H3f3f5Q"
   },
   "outputs": [],
   "source": [
    "# Importing both train and test data\n",
    "X_train =  pd.DataFrame(fetch_20newsgroups(random_state=1,subset=\"train\",remove=('headers', 'footers', 'quotes')).data)\n",
    "X_test = pd.DataFrame(fetch_20newsgroups(random_state=1,subset=\"test\",remove=('headers', 'footers', 'quotes')).data)"
   ]
  },
  {
   "cell_type": "code",
   "execution_count": 0,
   "metadata": {
    "colab": {},
    "colab_type": "code",
    "id": "S2Tls_ix9hpu"
   },
   "outputs": [],
   "source": [
    "from sklearn.decomposition import TruncatedSVD\n",
    "svd_model = TruncatedSVD(n_components=20,random_state=42)"
   ]
  },
  {
   "cell_type": "code",
   "execution_count": 0,
   "metadata": {
    "colab": {},
    "colab_type": "code",
    "id": "j5ejCZ7-3qaz"
   },
   "outputs": [],
   "source": [
    "# Tf-idf\n",
    "tfidf = TfidfVectorizer(max_df = 0.7,stop_words='english')"
   ]
  },
  {
   "cell_type": "code",
   "execution_count": 0,
   "metadata": {
    "colab": {},
    "colab_type": "code",
    "id": "eG3Uw55Vsb7A"
   },
   "outputs": [],
   "source": [
    "from sklearn.pipeline import Pipeline\n",
    "svd_transformer = Pipeline([('tfidf', tfidf), \n",
    "                            ('svd', svd_model)])\n",
    "preprocessing_model = svd_transformer.fit(X_train[0])\n",
    "svd_matrix_train = preprocessing_model.transform(X_train[0])"
   ]
  },
  {
   "cell_type": "code",
   "execution_count": 0,
   "metadata": {
    "colab": {
     "base_uri": "https://localhost:8080/",
     "height": 204
    },
    "colab_type": "code",
    "id": "E3otpfDk4dZr",
    "outputId": "32ff91e6-d66c-4390-8a8e-fa7fcdb16656"
   },
   "outputs": [
    {
     "data": {
      "text/html": [
       "<div>\n",
       "<style scoped>\n",
       "    .dataframe tbody tr th:only-of-type {\n",
       "        vertical-align: middle;\n",
       "    }\n",
       "\n",
       "    .dataframe tbody tr th {\n",
       "        vertical-align: top;\n",
       "    }\n",
       "\n",
       "    .dataframe thead th {\n",
       "        text-align: right;\n",
       "    }\n",
       "</style>\n",
       "<table border=\"1\" class=\"dataframe\">\n",
       "  <thead>\n",
       "    <tr style=\"text-align: right;\">\n",
       "      <th></th>\n",
       "      <th>0</th>\n",
       "    </tr>\n",
       "  </thead>\n",
       "  <tbody>\n",
       "    <tr>\n",
       "      <th>0</th>\n",
       "      <td>Well i'm not sure about the story nad it did s...</td>\n",
       "    </tr>\n",
       "    <tr>\n",
       "      <th>1</th>\n",
       "      <td>\\n\\n\\n\\n\\n\\n\\nYeah, do you expect people to re...</td>\n",
       "    </tr>\n",
       "    <tr>\n",
       "      <th>2</th>\n",
       "      <td>Although I realize that principle is not one o...</td>\n",
       "    </tr>\n",
       "    <tr>\n",
       "      <th>3</th>\n",
       "      <td>Notwithstanding all the legitimate fuss about ...</td>\n",
       "    </tr>\n",
       "    <tr>\n",
       "      <th>4</th>\n",
       "      <td>Well, I will have to change the scoring on my ...</td>\n",
       "    </tr>\n",
       "  </tbody>\n",
       "</table>\n",
       "</div>"
      ],
      "text/plain": [
       "                                                   0\n",
       "0  Well i'm not sure about the story nad it did s...\n",
       "1  \\n\\n\\n\\n\\n\\n\\nYeah, do you expect people to re...\n",
       "2  Although I realize that principle is not one o...\n",
       "3  Notwithstanding all the legitimate fuss about ...\n",
       "4  Well, I will have to change the scoring on my ..."
      ]
     },
     "execution_count": 99,
     "metadata": {
      "tags": []
     },
     "output_type": "execute_result"
    }
   ],
   "source": [
    "X_train.head()"
   ]
  },
  {
   "cell_type": "code",
   "execution_count": 0,
   "metadata": {
    "colab": {
     "base_uri": "https://localhost:8080/",
     "height": 221
    },
    "colab_type": "code",
    "id": "8GDbOUPo37xo",
    "outputId": "e6a9d471-3653-40ad-f434-f6ca344772f7"
   },
   "outputs": [
    {
     "data": {
      "text/plain": [
       "0        Well i'm not sure about the story nad it did s...\n",
       "1        \\n\\n\\n\\n\\n\\n\\nYeah, do you expect people to re...\n",
       "2        Although I realize that principle is not one o...\n",
       "3        Notwithstanding all the legitimate fuss about ...\n",
       "4        Well, I will have to change the scoring on my ...\n",
       "                               ...                        \n",
       "11309    Danny Rubenstein, an Israeli journalist, will ...\n",
       "11310                                                   \\n\n",
       "11311    \\nI agree.  Home runs off Clemens are always m...\n",
       "11312    I used HP DeskJet with Orange Micros Grappler ...\n",
       "11313                                          ^^^^^^\\n...\n",
       "Name: 0, Length: 11314, dtype: object"
      ]
     },
     "execution_count": 100,
     "metadata": {
      "tags": []
     },
     "output_type": "execute_result"
    }
   ],
   "source": [
    "X_train[0]"
   ]
  },
  {
   "cell_type": "code",
   "execution_count": 0,
   "metadata": {
    "colab": {
     "base_uri": "https://localhost:8080/",
     "height": 34
    },
    "colab_type": "code",
    "id": "orzOU-T_s-4A",
    "outputId": "87be4585-161e-4b6e-a720-917674ba678b"
   },
   "outputs": [
    {
     "data": {
      "text/plain": [
       "(11314, 20)"
      ]
     },
     "execution_count": 101,
     "metadata": {
      "tags": []
     },
     "output_type": "execute_result"
    }
   ],
   "source": [
    "svd_matrix_train.shape"
   ]
  },
  {
   "cell_type": "code",
   "execution_count": 0,
   "metadata": {
    "colab": {
     "base_uri": "https://localhost:8080/",
     "height": 238
    },
    "colab_type": "code",
    "id": "5GDUDA3IuFnx",
    "outputId": "bb119ba6-ef19-4255-c793-5b8e15404f2d"
   },
   "outputs": [
    {
     "data": {
      "text/plain": [
       "array([[ 0.08690086, -0.0527846 , -0.01616238, ...,  0.0002687 ,\n",
       "         0.00443517, -0.01074491],\n",
       "       [ 0.12571513, -0.03760951,  0.01866625, ..., -0.00077117,\n",
       "         0.01300213,  0.02119549],\n",
       "       [ 0.11543569, -0.05219267, -0.02285513, ...,  0.01157636,\n",
       "        -0.04126548, -0.00614087],\n",
       "       ...,\n",
       "       [ 0.06512141, -0.01969874, -0.02096021, ...,  0.00227408,\n",
       "         0.0074438 ,  0.00023347],\n",
       "       [ 0.0335365 ,  0.02203741, -0.0009162 , ..., -0.00957569,\n",
       "         0.00408981,  0.00810349],\n",
       "       [ 0.17359082, -0.03098308, -0.0483443 , ..., -0.01604614,\n",
       "         0.02073289,  0.02829521]])"
      ]
     },
     "execution_count": 102,
     "metadata": {
      "tags": []
     },
     "output_type": "execute_result"
    }
   ],
   "source": [
    "svd_matrix_train"
   ]
  },
  {
   "cell_type": "code",
   "execution_count": 0,
   "metadata": {
    "colab": {},
    "colab_type": "code",
    "id": "nCi_fl4iutVW"
   },
   "outputs": [],
   "source": [
    "# Querying a document related to one of the document in test data\n",
    "query = preprocessing_model.transform(X_test.iloc[3])"
   ]
  },
  {
   "cell_type": "code",
   "execution_count": 0,
   "metadata": {
    "colab": {
     "base_uri": "https://localhost:8080/",
     "height": 54
    },
    "colab_type": "code",
    "id": "GEwUSqHg0kdX",
    "outputId": "90cd171c-f6cb-4085-9568-628976e5e06f"
   },
   "outputs": [
    {
     "data": {
      "text/plain": [
       "'\\nI would further add that a 486/50,S3/928,8mb,15\",200mbDISK is going to cost\\n/WAY/ more than $900, probably $3,000.  Color makes it not apples/apples too.\\nXterminals provide better price/performance than PCs.  You can make a PC\\nmuch cheaper, and perform much worse, and you can make PC\\'s perform great, and\\ncost more.  You pay extra for the additional functinality and expandability\\nof a PC.  For home user, that extra functionality is worth the added cost.'"
      ]
     },
     "execution_count": 104,
     "metadata": {
      "tags": []
     },
     "output_type": "execute_result"
    }
   ],
   "source": [
    "X_test[0][3]"
   ]
  },
  {
   "cell_type": "code",
   "execution_count": 0,
   "metadata": {
    "colab": {
     "base_uri": "https://localhost:8080/",
     "height": 34
    },
    "colab_type": "code",
    "id": "c3NdLcE_vgXY",
    "outputId": "57bb0f99-f182-4e36-8377-a8e6c008be30"
   },
   "outputs": [
    {
     "data": {
      "text/plain": [
       "(1, 20)"
      ]
     },
     "execution_count": 105,
     "metadata": {
      "tags": []
     },
     "output_type": "execute_result"
    }
   ],
   "source": [
    "query.shape"
   ]
  },
  {
   "cell_type": "code",
   "execution_count": 0,
   "metadata": {
    "colab": {
     "base_uri": "https://localhost:8080/",
     "height": 85
    },
    "colab_type": "code",
    "id": "0caYaB0Tvm-d",
    "outputId": "5c9351da-89ae-4a7d-fe3e-12e548bccc19"
   },
   "outputs": [
    {
     "data": {
      "text/plain": [
       "array([[ 0.10794637,  0.05212298, -0.02256459, -0.00445603, -0.03443909,\n",
       "         0.02965227,  0.01295297, -0.02344415,  0.03132671, -0.05550064,\n",
       "        -0.00611564,  0.02284804, -0.02765203, -0.01307706,  0.01529244,\n",
       "         0.03147862,  0.05286134,  0.02611598,  0.00770828,  0.02992505]])"
      ]
     },
     "execution_count": 106,
     "metadata": {
      "tags": []
     },
     "output_type": "execute_result"
    }
   ],
   "source": [
    "query"
   ]
  },
  {
   "cell_type": "code",
   "execution_count": 0,
   "metadata": {
    "colab": {},
    "colab_type": "code",
    "id": "7uXJAaG2v6p3"
   },
   "outputs": [],
   "source": [
    "# Calculating cosine similarity\n",
    "from sklearn.metrics.pairwise import cosine_similarity\n",
    "distance_matrix = cosine_similarity(svd_matrix_train,query)"
   ]
  },
  {
   "cell_type": "code",
   "execution_count": 0,
   "metadata": {
    "colab": {
     "base_uri": "https://localhost:8080/",
     "height": 136
    },
    "colab_type": "code",
    "id": "W2O3w9rhwEGO",
    "outputId": "0b01da66-938f-44fb-b1cb-01c618774c1a"
   },
   "outputs": [
    {
     "name": "stdout",
     "output_type": "stream",
     "text": [
      "[[0.17763299]\n",
      " [0.37407271]\n",
      " [0.08994037]\n",
      " ...\n",
      " [0.34500256]\n",
      " [0.6130473 ]\n",
      " [0.46441076]]\n"
     ]
    }
   ],
   "source": [
    "print(distance_matrix)"
   ]
  },
  {
   "cell_type": "code",
   "execution_count": 0,
   "metadata": {
    "colab": {
     "base_uri": "https://localhost:8080/",
     "height": 34
    },
    "colab_type": "code",
    "id": "jhEN7csPwGTn",
    "outputId": "f2de216c-2209-4392-f150-0d69d1504547"
   },
   "outputs": [
    {
     "name": "stdout",
     "output_type": "stream",
     "text": [
      "(11314, 1) <class 'numpy.ndarray'>\n"
     ]
    }
   ],
   "source": [
    "print(distance_matrix.shape, type(distance_matrix))"
   ]
  },
  {
   "cell_type": "code",
   "execution_count": 0,
   "metadata": {
    "colab": {},
    "colab_type": "code",
    "id": "WKYV81EZwJWR"
   },
   "outputs": [],
   "source": [
    "flat = distance_matrix.flatten()"
   ]
  },
  {
   "cell_type": "code",
   "execution_count": 0,
   "metadata": {
    "colab": {
     "base_uri": "https://localhost:8080/",
     "height": 51
    },
    "colab_type": "code",
    "id": "DPb66fBuwL_H",
    "outputId": "3e8c08ad-ffdd-4dba-fb34-ebbad0e6035f"
   },
   "outputs": [
    {
     "data": {
      "text/plain": [
       "array([0.17763299, 0.37407271, 0.08994037, ..., 0.34500256, 0.6130473 ,\n",
       "       0.46441076])"
      ]
     },
     "execution_count": 111,
     "metadata": {
      "tags": []
     },
     "output_type": "execute_result"
    }
   ],
   "source": [
    "flat"
   ]
  },
  {
   "cell_type": "code",
   "execution_count": 0,
   "metadata": {
    "colab": {
     "base_uri": "https://localhost:8080/",
     "height": 34
    },
    "colab_type": "code",
    "id": "Yj5Hd526wO2U",
    "outputId": "eaad0d88-4a25-4c14-8dbc-34e3c5d12da3"
   },
   "outputs": [
    {
     "name": "stdout",
     "output_type": "stream",
     "text": [
      "(11314,) <class 'numpy.ndarray'>\n"
     ]
    }
   ],
   "source": [
    "print(flat.shape,type(flat))"
   ]
  },
  {
   "cell_type": "code",
   "execution_count": 0,
   "metadata": {
    "colab": {},
    "colab_type": "code",
    "id": "NdW-1bqkwTmh"
   },
   "outputs": [],
   "source": [
    "sort_indices = np.argsort(flat)"
   ]
  },
  {
   "cell_type": "code",
   "execution_count": 0,
   "metadata": {
    "colab": {
     "base_uri": "https://localhost:8080/",
     "height": 34
    },
    "colab_type": "code",
    "id": "XI3Nxf_jwWHq",
    "outputId": "78cbd0d1-e2b9-4ac6-c88b-51015a852d25"
   },
   "outputs": [
    {
     "data": {
      "text/plain": [
       "array([6417, 9823, 6536, ...,    6, 8909, 6559])"
      ]
     },
     "execution_count": 114,
     "metadata": {
      "tags": []
     },
     "output_type": "execute_result"
    }
   ],
   "source": [
    "sort_indices"
   ]
  },
  {
   "cell_type": "code",
   "execution_count": 0,
   "metadata": {
    "colab": {
     "base_uri": "https://localhost:8080/",
     "height": 34
    },
    "colab_type": "code",
    "id": "ur2Nhu-BwYv4",
    "outputId": "222f986c-7c81-468a-c07d-fab4f557b290"
   },
   "outputs": [
    {
     "data": {
      "text/plain": [
       "array([4637, 8344,    6, 8909, 6559])"
      ]
     },
     "execution_count": 115,
     "metadata": {
      "tags": []
     },
     "output_type": "execute_result"
    }
   ],
   "source": [
    "sort_indices[-5:]"
   ]
  },
  {
   "cell_type": "code",
   "execution_count": 0,
   "metadata": {
    "colab": {
     "base_uri": "https://localhost:8080/",
     "height": 34
    },
    "colab_type": "code",
    "id": "PVwHY1Q9wbef",
    "outputId": "62a9e1e3-e608-42ec-cdb5-c181a1c63d12"
   },
   "outputs": [
    {
     "name": "stdout",
     "output_type": "stream",
     "text": [
      "[0.89420752] [0.86455509] [0.85386399] [0.85352483] [0.84857162]\n"
     ]
    }
   ],
   "source": [
    "print(distance_matrix[6559],distance_matrix[8909],distance_matrix[6],distance_matrix[8344],distance_matrix[4637])"
   ]
  },
  {
   "cell_type": "code",
   "execution_count": 0,
   "metadata": {
    "colab": {
     "base_uri": "https://localhost:8080/",
     "height": 54
    },
    "colab_type": "code",
    "id": "Snm9IxXswt3l",
    "outputId": "9858a168-4b0f-4a19-9329-ec0066692e71"
   },
   "outputs": [
    {
     "data": {
      "text/plain": [
       "'\\nI would further add that a 486/50,S3/928,8mb,15\",200mbDISK is going to cost\\n/WAY/ more than $900, probably $3,000.  Color makes it not apples/apples too.\\nXterminals provide better price/performance than PCs.  You can make a PC\\nmuch cheaper, and perform much worse, and you can make PC\\'s perform great, and\\ncost more.  You pay extra for the additional functinality and expandability\\nof a PC.  For home user, that extra functionality is worth the added cost.'"
      ]
     },
     "execution_count": 117,
     "metadata": {
      "tags": []
     },
     "output_type": "execute_result"
    }
   ],
   "source": [
    "X_test[0][3]"
   ]
  },
  {
   "cell_type": "code",
   "execution_count": 0,
   "metadata": {
    "colab": {
     "base_uri": "https://localhost:8080/",
     "height": 54
    },
    "colab_type": "code",
    "id": "L6aZ9bWP6U6C",
    "outputId": "ef4bb55d-829f-45d1-c93f-cc49dd91874d"
   },
   "outputs": [
    {
     "data": {
      "text/plain": [
       "\"\\nOpenGL is a graphics programming library and as such is a great, portable\\ninterface for the development of interactive 3D graphics applications. It\\nis not, however, an indicator of performance, as that will vary strongly\\nfrom machine to machine and vendor to vendor.  SGI is committed to high\\nperformance interactive graphics systems and software tools, so OpenGL\\nmeans that you can port easily from SGI to other platforms, there is no\\nguarantee that your performance would be comparable.\\n\\n\\nIf your sales representative truly mislead you, then you should have a\\nvalid grievance against us which you should carry up to your local SGI\\nsales management team. Feel free to contact the local branch manager...we\\nunderstand that repeat sales come from satisfied customers, so give it a\\nshot.\\n\\n\\nAs one of the previous posts stated, the Personal IRIS was introduced in\\n1988 and grew to include the 4D/20, 4D/25, 4D/30 and 4D/35 as clock rates\\nsped up over time. As a rule of thumb, SGI platforms live for about 4-5\\nyears. This was true of the motorola-based 3000 series ('85-'89), the PI\\n('88-'93), the Professional Series (the early 4D's - '86-'90), the Power\\nSeries parallel systems ('88-'93). Individual CPU subsystems running at a\\nparticular clock rate usually live for about 2 years. New graphics\\narchitectures at the high end (GT, VGX, RealityEngine) are released every\\n18 months to 2 years.\\n\\nThese are the facts of life.  If we look at these machines, they become\\nalmost archaic after four years, and we have to come out with a new\\nplatform (like Indigo, Onyx, Challenge) which has higher bus bandwidths,\\nfaster CPUs, faster graphics and I/O, and larger disk capacities. If we\\ndon't, we become uncompetitive.\\n\\nFrom the user perspective, you have to buy a machine that meets your\\ncurrent needs and makes economic sense today.  You can't wait to buy, but\\nif you need a guaranteed upgrade path for the machine, ask the Sales Rep\\nfor one in writing. If it's feasible, they should be able to do that. Some\\nof our upgrade paths have specific programs associated with them, such as\\nthe Performance Protection Program for older R3000-based Power Series\\nmultiprocessing systems which allowed purchasers of those systems to obtain\\na guaranteed upgrade price for moving to the new Onyx or Challenge\\nR4400-based 64-bit multiprocessor systems.\\n\\n\\nIf that's happening, it's becausing of misunderstandings or\\nmis-communication, not because SGI is directly attempting to annoy our\\ncustomer base.\\n\\n\\nMost SGI customers are onesy-twosey types, but regardless, we rarely give a\\ngreat deal of notice when we are about to introduce a new system because\\nagain, like a previous post stated, if we pre-announced and the schedule\\nslipped, we would mess up our potential customers schedules (when they were\\ncounting on the availability of the new systems on a particular date) and\\nwould also look awfully bad to both our investors and the financial\\nanalysts who watch us most carefully to see if we are meeting our\\ncommitments.\\n\\n\\nFive years is an awfully long time in computer years. New processor\\ntechnologies are arriving every 1-2 years, making a 5 year old computer at\\nleast 2 and probably 3 generations behind the times. The competitive nature\\nof the market is demanding that rate of development, so if your timing is\\nreally 5 years between purchases, you have to accept the limited viability\\nof whatever architecture you buy into from any vendor.\\n\\nThere are some realities about the computer biz that we all have to live\\nwith, but keeping customers happy is the most important, so don't give up,\\nwe know it.\\n\\nJosh   |:-)\\n\\n-- \\n\""
      ]
     },
     "execution_count": 118,
     "metadata": {
      "tags": []
     },
     "output_type": "execute_result"
    }
   ],
   "source": [
    "X_train[0][6559]"
   ]
  },
  {
   "cell_type": "markdown",
   "metadata": {
    "colab_type": "text",
    "id": "RYwrkKMz8YO8"
   },
   "source": [
    "CLUSTERING"
   ]
  },
  {
   "cell_type": "code",
   "execution_count": 0,
   "metadata": {
    "colab": {},
    "colab_type": "code",
    "id": "l1u5o33Z6azf"
   },
   "outputs": [],
   "source": [
    "from sklearn.cluster import KMeans"
   ]
  },
  {
   "cell_type": "code",
   "execution_count": 0,
   "metadata": {
    "colab": {
     "base_uri": "https://localhost:8080/",
     "height": 68
    },
    "colab_type": "code",
    "id": "MoN5D8UNkQIY",
    "outputId": "4b547ca9-88df-4fbc-9a74-11df249a2962"
   },
   "outputs": [
    {
     "data": {
      "text/plain": [
       "KMeans(algorithm='auto', copy_x=True, init='k-means++', max_iter=100,\n",
       "       n_clusters=20, n_init=1, n_jobs=None, precompute_distances='auto',\n",
       "       random_state=None, tol=0.0001, verbose=0)"
      ]
     },
     "execution_count": 13,
     "metadata": {
      "tags": []
     },
     "output_type": "execute_result"
    }
   ],
   "source": [
    "number_of_clusters = 20\n",
    "\n",
    "model = KMeans(n_clusters=number_of_clusters, \n",
    "               init='k-means++', \n",
    "               max_iter=100, # Maximum number of iterations of the k-means algorithm for a single run.\n",
    "               n_init=1)  # Number of time the k-means algorithm will be run with different centroid seeds. The final results will be the best output of n_init consecutive runs in terms of inertia.\n",
    "\n",
    "model.fit(vectors)"
   ]
  },
  {
   "cell_type": "code",
   "execution_count": 0,
   "metadata": {
    "colab": {},
    "colab_type": "code",
    "id": "6zTLrSr9mcTZ"
   },
   "outputs": [],
   "source": [
    "order_centroids = model.cluster_centers_.argsort()[:, ::-1]\n",
    "terms = vectorizer.get_feature_names()"
   ]
  },
  {
   "cell_type": "code",
   "execution_count": 0,
   "metadata": {
    "colab": {
     "base_uri": "https://localhost:8080/",
     "height": 1000
    },
    "colab_type": "code",
    "id": "QQH1f9bQnHGG",
    "outputId": "f91a2f8e-b63d-45aa-f86e-283c355b7a00"
   },
   "outputs": [
    {
     "name": "stdout",
     "output_type": "stream",
     "text": [
      "Cluster 0:\n",
      " __\n",
      " ___\n",
      " _____\n",
      " cosmo\n",
      " baalke\n",
      " risc\n",
      " angmar\n",
      " ____\n",
      " jpl\n",
      " kelvin\n",
      "Cluster 1:\n",
      " columbia\n",
      " gld\n",
      " cunixb\n",
      " cc\n",
      " dare\n",
      " gary\n",
      " edu\n",
      " keenan\n",
      " cunixa\n",
      " insurance\n",
      "Cluster 2:\n",
      " andrew\n",
      " cmu\n",
      " edu\n",
      " carnegie\n",
      " mellon\n",
      " pittsburgh\n",
      " pa\n",
      " host\n",
      " nntp\n",
      " posting\n",
      "Cluster 3:\n",
      " scsi\n",
      " drive\n",
      " ide\n",
      " controller\n",
      " drives\n",
      " hard\n",
      " disk\n",
      " bus\n",
      " floppy\n",
      " hd\n",
      "Cluster 4:\n",
      " com\n",
      " lines\n",
      " subject\n",
      " organization\n",
      " ca\n",
      " would\n",
      " edu\n",
      " thanks\n",
      " one\n",
      " posting\n",
      "Cluster 5:\n",
      " people\n",
      " would\n",
      " edu\n",
      " gun\n",
      " one\n",
      " com\n",
      " think\n",
      " team\n",
      " like\n",
      " ca\n",
      "Cluster 6:\n",
      " windows\n",
      " dos\n",
      " access\n",
      " window\n",
      " file\n",
      " digex\n",
      " files\n",
      " edu\n",
      " ms\n",
      " com\n",
      "Cluster 7:\n",
      " geb\n",
      " banks\n",
      " gordon\n",
      " pitt\n",
      " cs\n",
      " dsl\n",
      " n3jxp\n",
      " cadre\n",
      " chastity\n",
      " shameful\n",
      "Cluster 8:\n",
      " israel\n",
      " israeli\n",
      " jews\n",
      " arab\n",
      " jake\n",
      " arabs\n",
      " edu\n",
      " lebanese\n",
      " adam\n",
      " israelis\n",
      "Cluster 9:\n",
      " hp\n",
      " com\n",
      " msg\n",
      " stratus\n",
      " sw\n",
      " edu\n",
      " food\n",
      " behanna\n",
      " dyer\n",
      " cdt\n",
      "Cluster 10:\n",
      " nasa\n",
      " gov\n",
      " ax\n",
      " larc\n",
      " space\n",
      " jpl\n",
      " gsfc\n",
      " jsc\n",
      " higgins\n",
      " howland\n",
      "Cluster 11:\n",
      " key\n",
      " clipper\n",
      " encryption\n",
      " chip\n",
      " escrow\n",
      " keys\n",
      " government\n",
      " com\n",
      " crypto\n",
      " algorithm\n",
      "Cluster 12:\n",
      " card\n",
      " video\n",
      " monitor\n",
      " drivers\n",
      " vga\n",
      " edu\n",
      " cards\n",
      " bus\n",
      " diamond\n",
      " ati\n",
      "Cluster 13:\n",
      " god\n",
      " jesus\n",
      " christians\n",
      " bible\n",
      " people\n",
      " christian\n",
      " one\n",
      " faith\n",
      " christ\n",
      " believe\n",
      "Cluster 14:\n",
      " keith\n",
      " caltech\n",
      " livesey\n",
      " sgi\n",
      " morality\n",
      " objective\n",
      " solntze\n",
      " wpd\n",
      " jon\n",
      " schneider\n",
      "Cluster 15:\n",
      " edu\n",
      " university\n",
      " subject\n",
      " organization\n",
      " lines\n",
      " posting\n",
      " host\n",
      " nntp\n",
      " cs\n",
      " article\n",
      "Cluster 16:\n",
      " space\n",
      " henry\n",
      " alaska\n",
      " toronto\n",
      " edu\n",
      " moon\n",
      " zoo\n",
      " ti\n",
      " launch\n",
      " spencer\n",
      "Cluster 17:\n",
      " uk\n",
      " ac\n",
      " sandvik\n",
      " co\n",
      " kent\n",
      " apple\n",
      " newton\n",
      " com\n",
      " mathew\n",
      " cam\n",
      "Cluster 18:\n",
      " car\n",
      " edu\n",
      " com\n",
      " bike\n",
      " cleveland\n",
      " article\n",
      " cars\n",
      " writes\n",
      " would\n",
      " cwru\n",
      "Cluster 19:\n",
      " cd\n",
      " cview\n",
      " audio\n",
      " rom\n",
      " apple\n",
      " uky\n",
      " edu\n",
      " toshiba\n",
      " drive\n",
      " relays\n"
     ]
    }
   ],
   "source": [
    "for i in range(number_of_clusters):\n",
    "    print(\"Cluster %d:\" % i),\n",
    "    for ind in order_centroids[i, :10]:\n",
    "        print(' %s' % terms[ind])"
   ]
  },
  {
   "cell_type": "code",
   "execution_count": 0,
   "metadata": {
    "colab": {
     "base_uri": "https://localhost:8080/",
     "height": 425
    },
    "colab_type": "code",
    "id": "c_5u5UEpnXT6",
    "outputId": "9b170f58-a36a-4cd4-b684-a62644ea3046"
   },
   "outputs": [
    {
     "name": "stdout",
     "output_type": "stream",
     "text": [
      "From: kozloce@wkuvx1.bitnet\n",
      "Subject: Re: Atlanta Hockey Hell!!DIR\n",
      "Organization: Western Kentucky University, Bowling Green, KY\n",
      "Lines: 18\n",
      "\n",
      "> Someone give SportChannel a call (or maybe Ted Turner).\n",
      "> Wasn't USA network covering the playoffs years ago?\n",
      "> \n",
      "> Jim G.\n",
      "\n",
      "Oh to be back in the good old days when I lived in Florida (Florida for\n",
      "Petes sake!!) and could watch hockey every night as ESPN and USA alternated\n",
      "coverage nights. Oh well I guess it would be too simple for the home office\n",
      "to look back into their past to solve a problem in the present...\n",
      "\n",
      "Of course I shouldn't complain. At least I'm getting to watch the playoffs\n",
      "for a change. (Hooray!!) Now if the ESPN schedulers will realise there are\n",
      "other teams except Pittsberg in the Patrick. (Sounds like a Dr Suess Book\n",
      "=)\n",
      "\n",
      "KOZ\n",
      "\n",
      "LETS GO CAPS!!\n",
      "\n"
     ]
    }
   ],
   "source": [
    "print (train.data[350])"
   ]
  },
  {
   "cell_type": "code",
   "execution_count": 0,
   "metadata": {
    "colab": {
     "base_uri": "https://localhost:8080/",
     "height": 34
    },
    "colab_type": "code",
    "id": "BVRxZP12oJsX",
    "outputId": "2c51a156-f3bb-4f58-f3b3-7247514a308c"
   },
   "outputs": [
    {
     "name": "stdout",
     "output_type": "stream",
     "text": [
      "Text belongs to cluster number 5\n"
     ]
    }
   ],
   "source": [
    "X = vectorizer.transform([train.data[350]])\n",
    "\n",
    "cluster = model.predict(X)[0]\n",
    "\n",
    "print(\"Text belongs to cluster number {0}\".format(cluster))"
   ]
  },
  {
   "cell_type": "code",
   "execution_count": 0,
   "metadata": {
    "colab": {
     "base_uri": "https://localhost:8080/",
     "height": 187
    },
    "colab_type": "code",
    "id": "xqR_wBacoite",
    "outputId": "9b448c94-fd2b-485a-fb8f-73bb60292f70"
   },
   "outputs": [
    {
     "name": "stdout",
     "output_type": "stream",
     "text": [
      " people\n",
      " would\n",
      " edu\n",
      " gun\n",
      " one\n",
      " com\n",
      " think\n",
      " team\n",
      " like\n",
      " ca\n"
     ]
    }
   ],
   "source": [
    "for ind in order_centroids[cluster, :10]:\n",
    "    print(' %s' % terms[ind])"
   ]
  }
 ],
 "metadata": {
  "colab": {
   "collapsed_sections": [],
   "name": "Classification_clustering news20.ipynb",
   "provenance": []
  },
  "kernelspec": {
   "display_name": "Python 3",
   "language": "python",
   "name": "python3"
  },
  "language_info": {
   "codemirror_mode": {
    "name": "ipython",
    "version": 3
   },
   "file_extension": ".py",
   "mimetype": "text/x-python",
   "name": "python",
   "nbconvert_exporter": "python",
   "pygments_lexer": "ipython3",
   "version": "3.7.1"
  }
 },
 "nbformat": 4,
 "nbformat_minor": 1
}
